{
 "cell_type": "markdown",
 "cells": [
  {
   "cell_type": "markdown",
   "metadata": {
    "id": "EgiF12Hf1Dhs"
   },
   "source": [
    "# Clutter clearing with Graph of Convex Sets Motion Planning\n",
    "\n",
    "This notebook provides examples to go along with the [textbook](http://manipulation.csail.mit.edu/trajectories.html).  I recommend having both windows open, side-by-side!\n"
   ]
  },
  {
   "cell_type": "code",
   "execution_count": null,
   "metadata": {
    "id": "eeMrMI0-1Dhu"
   },
   "outputs": [],
   "source": [
    "import numpy as np\n",
    "from pydrake.all import (ModelVisualizer, StartMeshcat)\n",
    "\n",
    "from manipulation import running_as_notebook\n",
    "from manipulation.utils import AddPackagePaths, FindResource\n",
    "from manipulation.iris import IrisBuilder"
   ]
  },
  {
   "cell_type": "code",
   "execution_count": null,
   "metadata": {},
   "outputs": [],
   "source": [
    "# Start the visualizer.\n",
    "meshcat = StartMeshcat()"
   ]
  },
  {
   "cell_type": "markdown",
   "metadata": {},
   "source": [
    "## Andy's clutter clearing\n",
    "\n",
    "Andy Lambert is working on a clutter clearing station in my lab that has a slightly different geometry than the one we've been using. I want to run this demo on that hardware, so I've made the switch."
   ]
  },
  {
   "cell_type": "code",
   "execution_count": null,
   "metadata": {},
   "outputs": [],
   "source": [
    "def show_model():\n",
    "    visualizer = ModelVisualizer(meshcat=meshcat)\n",
    "    AddPackagePaths(visualizer.parser())\n",
    "    visualizer.AddModels(FindResource('models/andy_clutter/clutter.dmd.yaml'))\n",
    "    visualizer.Run(loop_once=not running_as_notebook)\n",
    "\n",
    "show_model()"
   ]
  },
  {
   "cell_type": "markdown",
   "metadata": {},
   "source": [
    "## Making IRIS regions"
   ]
  },
  {
   "cell_type": "code",
   "execution_count": null,
   "metadata": {},
   "outputs": [],
   "source": [
    "def build_iris_regions():\n",
    "    builder = DiagramBuilder()\n",
    "    plant, scene_graph = AddMultibodyPlantSceneGraph(builder, 0.0)\n",
    "    parser = Parser(plant)\n",
    "    AddPackagePaths(parser)\n",
    "    parser.AddModels(FindResource('models/andy_clutter/clutter.dmd.yaml'))\n",
    "    diagram = builder.Build()\n",
    "\n",
    "    context = diagram.CreateDefaultContext()\n",
    "    plant_context = plant.GetMyMutableContextFromRoot(context)\n",
    "\n",
    "    options = IrisOptions()\n",
    "    iris_builder = IrisBuilder(plant, plant_context, options)\n",
    "    "
   ]
  },
  {
   "cell_type": "code",
   "execution_count": null,
   "metadata": {},
   "outputs": [],
   "source": []
  }
 ],
 "metadata": {
  "colab": {
   "collapsed_sections": [],
   "name": "Robotic Manipulation - Motion Planning.ipynb",
   "provenance": []
  },
  "kernelspec": {
   "display_name": "Python 3.8.10 64-bit",
   "language": "python",
   "name": "python3"
  },
  "language_info": {
   "codemirror_mode": {
    "name": "ipython",
    "version": 3
   },
   "file_extension": ".py",
   "mimetype": "text/x-python",
   "name": "python",
   "nbconvert_exporter": "python",
   "pygments_lexer": "ipython3",
   "version": "3.8.10"
  },
  "vscode": {
   "interpreter": {
    "hash": "e7370f93d1d0cde622a1f8e1c04877d8463912d04d973331ad4851f04de6915a"
   }
  }
 },
 "nbformat": 4,
 "nbformat_minor": 1
}
